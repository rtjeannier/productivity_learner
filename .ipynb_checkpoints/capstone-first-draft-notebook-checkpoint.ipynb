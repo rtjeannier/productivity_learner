{
 "cells": [
  {
   "cell_type": "code",
   "execution_count": 1,
   "metadata": {
    "collapsed": true
   },
   "outputs": [],
   "source": [
    "import pandas as pd\n",
    "import numpy as np\n",
    "import matplotlib.pyplot as plt\n",
    "from bs4 import BeautifulSoup\n",
    "from sklearn import model_selection\n",
    "from sklearn import linear_model\n",
    "from sklearn import ensemble\n",
    "from sklearn.metrics import accuracy_score, precision_score, recall_score, confusion_matrix, classification_report\n",
    "\n",
    "%matplotlib inline"
   ]
  },
  {
   "cell_type": "code",
   "execution_count": 2,
   "metadata": {
    "collapsed": true
   },
   "outputs": [],
   "source": [
    "# This is where I parse out text\n",
    "def clean_soup(soup):\n",
    "    for tag in soup.find_all(['script', 'style','meta']):\n",
    "        tag.decompose()   \n",
    "    return soup.get_text()\n",
    "\n",
    "\n",
    "def find_between( s, first, last ):\n",
    "    try:\n",
    "        start = s.index( first ) + len( first )\n",
    "        end = s.index( last, start )\n",
    "        return s[start:end]\n",
    "    except ValueError:\n",
    "        return \"\"\n"
   ]
  },
  {
   "cell_type": "code",
   "execution_count": null,
   "metadata": {
    "scrolled": false
   },
   "outputs": [
    {
     "name": "stderr",
     "output_type": "stream",
     "text": [
      "/home/roland/anaconda3/lib/python3.6/site-packages/bs4/__init__.py:181: UserWarning: No parser was explicitly specified, so I'm using the best available HTML parser for this system (\"lxml\"). This usually isn't a problem, but if you run this code on another system, or in a different virtual environment, it may use a different parser and behave differently.\n",
      "\n",
      "The code that caused this warning is on line 193 of the file /home/roland/anaconda3/lib/python3.6/runpy.py. To get rid of this warning, change code that looks like this:\n",
      "\n",
      " BeautifulSoup(YOUR_MARKUP})\n",
      "\n",
      "to this:\n",
      "\n",
      " BeautifulSoup(YOUR_MARKUP, \"lxml\")\n",
      "\n",
      "  markup_type=markup_type))\n"
     ]
    }
   ],
   "source": [
    "import os\n",
    "\n",
    "rootdir = '/home/roland/Workspace/Data/Procrastinating_HTML/'\n",
    "data = pd.DataFrame(columns = ['activity', 'text', 'timestamp'])\n",
    "\n",
    "URL_STRING = \"__URL__: \"\n",
    "HTML_START = \"<\"\n",
    "for subdir, dirs, files in os.walk(rootdir):\n",
    "    i = 0\n",
    "    for file in files:\n",
    "        f = open(os.path.join(subdir, file))\n",
    "        raw = f.read()\n",
    "        url = ''\n",
    "        \n",
    "        if URL_STRING in raw:\n",
    "            url = find_between(raw, URL_STRING, HTML_START)\n",
    "            raw = raw.replace(url, '')\n",
    "        \n",
    "        # Below are character I am manually parsing out. There must exist a more efficient way to do this\n",
    "        # but for now it runs fast enough.\n",
    "        raw = raw.replace('\\n', ' ')\n",
    "        raw = raw.replace('\\t', ' ')\n",
    "        raw = raw.replace('\\\\n', ' ')\n",
    "        raw = raw.replace('\\\\t', ' ')\n",
    "        raw = raw.replace(URL_STRING, '')\n",
    "\n",
    "        soup = BeautifulSoup(raw)\n",
    "        data.set_value(i, 'text', clean_soup(soup))\n",
    "        t = str(file).split('_')\n",
    "        data.set_value(i, 'activity', t[0])\n",
    "        timestamp = t[1].split('.')[0]\n",
    "        data.set_value(i, 'timestamp', timestamp)\n",
    "        data.set_value(i, 'url', url)\n",
    "        i+=1\n",
    "        f.close()\n"
   ]
  },
  {
   "cell_type": "code",
   "execution_count": null,
   "metadata": {
    "collapsed": true
   },
   "outputs": [],
   "source": [
    "data=data[data.text != \"\"]"
   ]
  },
  {
   "cell_type": "code",
   "execution_count": null,
   "metadata": {
    "collapsed": true
   },
   "outputs": [],
   "source": [
    "data.timestamp = data.timestamp.str.replace(\"\\(1\\)\",\"\")\n",
    "data.timestamp = data.timestamp.str.replace(\"T\",\"-\")"
   ]
  },
  {
   "cell_type": "code",
   "execution_count": null,
   "metadata": {
    "collapsed": true
   },
   "outputs": [],
   "source": [
    "X = data[['text','url']]\n",
    "\n",
    "X_train, X_test, y_train, y_test = model_selection.train_test_split(data, data.activity,test_size=0.33, random_state=43)"
   ]
  },
  {
   "cell_type": "code",
   "execution_count": null,
   "metadata": {
    "collapsed": true
   },
   "outputs": [],
   "source": [
    "def evaluate_model(model, X_train = X_train, y_train = y_train, X_test = X_test, y_test = y_test):\n",
    "    model.fit(X_train, y_train)\n",
    "    y_pred = model.predict(X_test)\n",
    "    \n",
    "    accuracy = accuracy_score(y_test, y_pred)\n",
    "    \n",
    "    cm = confusion_matrix(y_test, y_pred)\n",
    "    cr = classification_report(y_test, y_pred)\n",
    "    \n",
    "    print(cm)\n",
    "    print(cr)\n",
    "    \n",
    "    return accuracy"
   ]
  },
  {
   "cell_type": "markdown",
   "metadata": {},
   "source": [
    "### Working with lemmatizing"
   ]
  },
  {
   "cell_type": "code",
   "execution_count": null,
   "metadata": {
    "collapsed": true
   },
   "outputs": [],
   "source": [
    "# I am not using any of these libraries yet\n",
    "from nltk.stem import WordNetLemmatizer\n",
    "from nltk.stem import SnowballStemmer\n",
    "lemmatizer = WordNetLemmatizer()\n",
    "stemmer = SnowballStemmer('english')"
   ]
  },
  {
   "cell_type": "markdown",
   "metadata": {},
   "source": [
    "### Below is model building"
   ]
  },
  {
   "cell_type": "code",
   "execution_count": null,
   "metadata": {
    "collapsed": true
   },
   "outputs": [],
   "source": [
    "# replacing any empty urls with empty strings\n",
    "data.url = data.url.str.replace('NA', \"\")"
   ]
  },
  {
   "cell_type": "code",
   "execution_count": null,
   "metadata": {
    "collapsed": true
   },
   "outputs": [],
   "source": [
    "from sklearn.feature_extraction.text import CountVectorizer, HashingVectorizer, TfidfVectorizer\n",
    "\n",
    "#instantiate our model, countvectorizing works th best\n",
    "cvec = CountVectorizer(stop_words='english')\n",
    "\n",
    "#fit the count vectorizer to the data. This 'teaches' the count vectorizer the dictionary.\n",
    "#cvec.fit(data.text)"
   ]
  },
  {
   "cell_type": "code",
   "execution_count": null,
   "metadata": {
    "collapsed": true
   },
   "outputs": [],
   "source": [
    "# # Vectorizing my text\n",
    "# result_train = pd.DataFrame(data=cvec.transform(X_train.text).todense(), columns=cvec.vocabulary_)\n",
    "# result_test = pd.DataFrame(data=cvec.transform(X_test.text).todense(), columns=cvec.vocabulary_)\n",
    "\n",
    "# #NOTE TO SELF\n",
    "\n",
    "# # Try using fuzzy matching on URLs. Try using the partial matching thing. Then label encode the ones that match well."
   ]
  },
  {
   "cell_type": "code",
   "execution_count": null,
   "metadata": {
    "collapsed": true
   },
   "outputs": [],
   "source": [
    "# Vectorizing my text\n",
    "result_train = pd.DataFrame(data=cvec.fit_transform(X_train.text).todense(), columns = cvec.get_feature_names())\n",
    "result_test = pd.DataFrame(data=cvec.transform(X_test.text).todense(), columns= cvec.get_feature_names())\n",
    "\n",
    "#NOTE TO SELF\n",
    "\n",
    "# Try using fuzzy matching on URLs. Try using the partial matching thing. Then label encode the ones that match well."
   ]
  },
  {
   "cell_type": "code",
   "execution_count": null,
   "metadata": {},
   "outputs": [],
   "source": [
    "set(result_train.columns) - set(result_test.columns)\n",
    "\n",
    "len(result_train.columns)"
   ]
  },
  {
   "cell_type": "markdown",
   "metadata": {},
   "source": [
    "#### Making my features here. \n",
    "I have my vectorized text which works really well, but there is additional informaiton that I can engineer that might be useful for prediction. Below is where I am going to work thourgh that process."
   ]
  },
  {
   "cell_type": "code",
   "execution_count": null,
   "metadata": {},
   "outputs": [],
   "source": [
    "lm = linear_model.LogisticRegression()\n",
    "rf = ensemble.RandomForestClassifier()\n",
    "# fitting my training data  and scoring with my test data\n",
    "lm.fit(result_train,y_train)\n",
    "lm.score(result_test, y_test)\n",
    "evaluate_model(lm, X_train=result_train, X_test=result_test)"
   ]
  },
  {
   "cell_type": "code",
   "execution_count": null,
   "metadata": {
    "collapsed": true
   },
   "outputs": [],
   "source": [
    "\n",
    "predict = lm.predict(result_test)\n",
    "actual = data.activity\n"
   ]
  },
  {
   "cell_type": "code",
   "execution_count": null,
   "metadata": {},
   "outputs": [],
   "source": [
    "\n",
    "coef = zip(result_test.columns, np.exp((lm.coef_[0])))\n",
    "\n",
    "sorted(coef,key = lambda a: a[1], reverse=False)"
   ]
  },
  {
   "cell_type": "code",
   "execution_count": null,
   "metadata": {},
   "outputs": [],
   "source": [
    "# baseline\n",
    "(y_train == 'procr').sum()/float(len(y_train))"
   ]
  },
  {
   "cell_type": "code",
   "execution_count": null,
   "metadata": {},
   "outputs": [],
   "source": [
    "X_test['prob_work'] = lm.predict_proba(result_test)[:,1]*100"
   ]
  },
  {
   "cell_type": "code",
   "execution_count": null,
   "metadata": {},
   "outputs": [],
   "source": [
    "X_test['prob_work'] = X_test.prob_work.apply(int)\n",
    "X_test['predict']  = lm.predict(result_test)"
   ]
  },
  {
   "cell_type": "code",
   "execution_count": null,
   "metadata": {},
   "outputs": [],
   "source": [
    "X_test[X_test.activity != X_test.predict]"
   ]
  },
  {
   "cell_type": "markdown",
   "metadata": {},
   "source": [
    "### Analyzing Count vectorized results"
   ]
  },
  {
   "cell_type": "code",
   "execution_count": null,
   "metadata": {
    "collapsed": true
   },
   "outputs": [],
   "source": [
    "temp = result_train[list(X_train.activity =='procr')]"
   ]
  },
  {
   "cell_type": "code",
   "execution_count": null,
   "metadata": {},
   "outputs": [],
   "source": [
    "X_train['python_count']  = list(result_train['python'])"
   ]
  },
  {
   "cell_type": "code",
   "execution_count": 412,
   "metadata": {},
   "outputs": [
    {
     "data": {
      "text/plain": [
       "[\" AnyDice            AnyDice Dice Probability Calculator   Articles      Stay Connected  Twitter,     Facebook,     Google+  Currently Playing     made by Jasper Flick     output 3d4   View       Data       ...calculating...   output 1 (92.00 / 9.42)#%240.00\\xa0250.00\\xa0260.00\\xa0270.00\\xa0280.00\\xa0290.00\\xa0300.00\\xa0310.00\\xa0320.00\\xa0330.00\\xa0340.00\\xa0350.00\\xa0360.00\\xa0370.00\\xa0380.00\\xa0390.00\\xa0400.00\\xa0410.00\\xa0420.00\\xa0430.00\\xa0440.00\\xa0450.00\\xa0460.00\\xa0470.00\\xa0480.00\\xa0490.00\\xa0500.00\\xa0510.00\\xa0520.00\\xa0530.00\\xa0540.00\\xa0550.00\\xa0560.00\\xa0570.00\\xa0580.00\\xa0590.01\\xa0600.01\\xa0610.02\\xa0620.02\\xa0630.03\\xa0640.05\\xa0650.07\\xa0660.09\\xa0670.12\\xa0680.16\\xa0690.21\\xa0700.28\\xa0710.35\\xa0720.45\\xa0730.56\\xa0740.69\\xa0750.84\\xa0761.01\\xa0771.21\\xa0781.42\\xa0791.65\\xa0801.90\\xa0812.16\\xa0822.42\\xa0832.69\\xa0842.96\\xa0853.21\\xa0863.45\\xa0873.67\\xa0883.85\\xa0894.00\\xa0904.12\\xa0914.18\\xa0924.21\\xa0934.18\\xa0944.12\\xa0954.00\\xa0963.85\\xa0973.67\\xa0983.45\\xa0993.21\\xa01002.96\\xa01012.69\\xa01022.42\\xa01032.16\\xa01041.90\\xa01051.65\\xa01061.42\\xa01071.21\\xa01081.01\\xa01090.84\\xa01100.69\\xa01110.56\\xa01120.45\\xa01130.35\\xa01140.28\\xa01150.21\\xa01160.16\\xa01170.12\\xa01180.09\\xa01190.07\\xa01200.05\\xa01210.03\\xa01220.02\\xa01230.02\\xa01240.01\\xa01250.01\\xa01260.00\\xa01270.00\\xa01280.00\\xa01290.00\\xa01300.00\\xa01310.00\\xa01320.00\\xa01330.00\\xa01340.00\\xa01350.00\\xa01360.00\\xa01370.00\\xa01380.00\\xa01390.00\\xa01400.00\\xa01410.00\\xa01420.00\\xa01430.00\\xa01440.00\\xa01450.00\\xa01460.00\\xa01470.00\\xa01480.00\\xa01490.00\\xa01500.00\\xa01510.00\\xa01520.00\\xa01530.00\\xa01540.00\\xa01550.00\\xa01560.00\\xa01570.00\\xa01580.00\\xa01590.00\\xa01600.00\\xa0              You can chat with me – the creator of AnyDice – using the widget below, if I'm online. I am willing to help you with AnyDice. I can also help you understand dice probabilities.     The chat session will remain alive even when it is hidden.           Have you considered donating?    Show me how and why! Remind me later. Yes, I have already donated! No, and don't bother me again!  \"]"
      ]
     },
     "execution_count": 412,
     "metadata": {},
     "output_type": "execute_result"
    }
   ],
   "source": [
    "temp = X_train[X_train.python_count > 0].sort_values('python_count', ascending = False)\n",
    "list(temp[temp.activity == 'procr'].iloc[0:1].text)"
   ]
  },
  {
   "cell_type": "code",
   "execution_count": 455,
   "metadata": {
    "collapsed": true
   },
   "outputs": [],
   "source": [
    "cvec.fit((temp[temp.activity == 'procr'].iloc[0:8].text))\n",
    "new_temp = pd.DataFrame(data=cvec.transform(temp[temp.activity == 'procr'].iloc[0:8].text).todense(), columns = cvec.get_feature_names())"
   ]
  },
  {
   "cell_type": "code",
   "execution_count": 457,
   "metadata": {},
   "outputs": [
    {
     "data": {
      "text/plain": [
       "0    4\n",
       "1    0\n",
       "2    0\n",
       "3    0\n",
       "4    0\n",
       "5    0\n",
       "6    0\n",
       "7    0\n",
       "Name: anydice, dtype: int64"
      ]
     },
     "execution_count": 457,
     "metadata": {},
     "output_type": "execute_result"
    }
   ],
   "source": [
    "new_temp['anydice']"
   ]
  },
  {
   "cell_type": "code",
   "execution_count": 454,
   "metadata": {},
   "outputs": [
    {
     "data": {
      "text/plain": [
       "[\" AnyDice            AnyDice Dice Probability Calculator   Articles      Stay Connected  Twitter,     Facebook,     Google+  Currently Playing     made by Jasper Flick     output 3d4   View       Data       ...calculating...   output 1 (92.00 / 9.42)#%240.00\\xa0250.00\\xa0260.00\\xa0270.00\\xa0280.00\\xa0290.00\\xa0300.00\\xa0310.00\\xa0320.00\\xa0330.00\\xa0340.00\\xa0350.00\\xa0360.00\\xa0370.00\\xa0380.00\\xa0390.00\\xa0400.00\\xa0410.00\\xa0420.00\\xa0430.00\\xa0440.00\\xa0450.00\\xa0460.00\\xa0470.00\\xa0480.00\\xa0490.00\\xa0500.00\\xa0510.00\\xa0520.00\\xa0530.00\\xa0540.00\\xa0550.00\\xa0560.00\\xa0570.00\\xa0580.00\\xa0590.01\\xa0600.01\\xa0610.02\\xa0620.02\\xa0630.03\\xa0640.05\\xa0650.07\\xa0660.09\\xa0670.12\\xa0680.16\\xa0690.21\\xa0700.28\\xa0710.35\\xa0720.45\\xa0730.56\\xa0740.69\\xa0750.84\\xa0761.01\\xa0771.21\\xa0781.42\\xa0791.65\\xa0801.90\\xa0812.16\\xa0822.42\\xa0832.69\\xa0842.96\\xa0853.21\\xa0863.45\\xa0873.67\\xa0883.85\\xa0894.00\\xa0904.12\\xa0914.18\\xa0924.21\\xa0934.18\\xa0944.12\\xa0954.00\\xa0963.85\\xa0973.67\\xa0983.45\\xa0993.21\\xa01002.96\\xa01012.69\\xa01022.42\\xa01032.16\\xa01041.90\\xa01051.65\\xa01061.42\\xa01071.21\\xa01081.01\\xa01090.84\\xa01100.69\\xa01110.56\\xa01120.45\\xa01130.35\\xa01140.28\\xa01150.21\\xa01160.16\\xa01170.12\\xa01180.09\\xa01190.07\\xa01200.05\\xa01210.03\\xa01220.02\\xa01230.02\\xa01240.01\\xa01250.01\\xa01260.00\\xa01270.00\\xa01280.00\\xa01290.00\\xa01300.00\\xa01310.00\\xa01320.00\\xa01330.00\\xa01340.00\\xa01350.00\\xa01360.00\\xa01370.00\\xa01380.00\\xa01390.00\\xa01400.00\\xa01410.00\\xa01420.00\\xa01430.00\\xa01440.00\\xa01450.00\\xa01460.00\\xa01470.00\\xa01480.00\\xa01490.00\\xa01500.00\\xa01510.00\\xa01520.00\\xa01530.00\\xa01540.00\\xa01550.00\\xa01560.00\\xa01570.00\\xa01580.00\\xa01590.00\\xa01600.00\\xa0              You can chat with me – the creator of AnyDice – using the widget below, if I'm online. I am willing to help you with AnyDice. I can also help you understand dice probabilities.     The chat session will remain alive even when it is hidden.           Have you considered donating?    Show me how and why! Remind me later. Yes, I have already donated! No, and don't bother me again!  \"]"
      ]
     },
     "execution_count": 454,
     "metadata": {},
     "output_type": "execute_result"
    }
   ],
   "source": [
    "list(temp[temp.activity == 'procr'].iloc[0:1].text)"
   ]
  },
  {
   "cell_type": "code",
   "execution_count": null,
   "metadata": {
    "collapsed": true
   },
   "outputs": [],
   "source": []
  }
 ],
 "metadata": {
  "kernelspec": {
   "display_name": "Python 3",
   "language": "python",
   "name": "python3"
  },
  "language_info": {
   "codemirror_mode": {
    "name": "ipython",
    "version": 3
   },
   "file_extension": ".py",
   "mimetype": "text/x-python",
   "name": "python",
   "nbconvert_exporter": "python",
   "pygments_lexer": "ipython3",
   "version": "3.6.1"
  }
 },
 "nbformat": 4,
 "nbformat_minor": 2
}
