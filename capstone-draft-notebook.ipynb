{
 "cells": [
  {
   "cell_type": "code",
   "execution_count": 1,
   "metadata": {
    "collapsed": true
   },
   "outputs": [],
   "source": [
    "import pandas as pd\n",
    "import numpy as np\n",
    "import matplotlib.pyplot as plt\n",
    "from bs4 import BeautifulSoup\n",
    "from sklearn import model_selection\n",
    "from sklearn import linear_model\n",
    "from sklearn import ensemble\n",
    "from sklearn.metrics import accuracy_score, precision_score, recall_score, confusion_matrix, classification_report\n",
    "\n",
    "%matplotlib inline"
   ]
  },
  {
   "cell_type": "code",
   "execution_count": 2,
   "metadata": {
    "collapsed": true
   },
   "outputs": [],
   "source": [
    "# This is where I parse out text\n",
    "def clean_soup(soup):\n",
    "    for tag in soup.find_all(['script', 'style','meta']):\n",
    "        tag.decompose()   \n",
    "    return soup.get_text()\n",
    "\n",
    "\n",
    "def find_between( s, first, last ):\n",
    "    try:\n",
    "        start = s.index( first ) + len( first )\n",
    "        end = s.index( last, start )\n",
    "        return s[start:end]\n",
    "    except ValueError:\n",
    "        return \"\"\n"
   ]
  },
  {
   "cell_type": "code",
   "execution_count": 3,
   "metadata": {
    "scrolled": false
   },
   "outputs": [
    {
     "name": "stderr",
     "output_type": "stream",
     "text": [
      "/home/roland/anaconda3/lib/python3.6/site-packages/bs4/__init__.py:181: UserWarning: No parser was explicitly specified, so I'm using the best available HTML parser for this system (\"lxml\"). This usually isn't a problem, but if you run this code on another system, or in a different virtual environment, it may use a different parser and behave differently.\n",
      "\n",
      "The code that caused this warning is on line 193 of the file /home/roland/anaconda3/lib/python3.6/runpy.py. To get rid of this warning, change code that looks like this:\n",
      "\n",
      " BeautifulSoup(YOUR_MARKUP})\n",
      "\n",
      "to this:\n",
      "\n",
      " BeautifulSoup(YOUR_MARKUP, \"lxml\")\n",
      "\n",
      "  markup_type=markup_type))\n"
     ]
    }
   ],
   "source": [
    "import os\n",
    "\n",
    "rootdir = '/home/roland/Workspace/Data/Procrastinating_HTML/'\n",
    "data = pd.DataFrame(columns = ['activity', 'text', 'timestamp'])\n",
    "\n",
    "URL_STRING = \"__URL__: \"\n",
    "HTML_START = \"<\"\n",
    "for subdir, dirs, files in os.walk(rootdir):\n",
    "    i = 0\n",
    "    for file in files:\n",
    "        f = open(os.path.join(subdir, file))\n",
    "        raw = f.read()\n",
    "        url = ''\n",
    "        \n",
    "        if URL_STRING in raw:\n",
    "            url = find_between(raw, URL_STRING, HTML_START)\n",
    "            raw = raw.replace(url, '')\n",
    "        \n",
    "        # Below are character I am manually parsing out. There must exist a more efficient way to do this\n",
    "        # but for now it runs fast enough.\n",
    "        raw = raw.replace('\\n', ' ')\n",
    "        raw = raw.replace('\\t', ' ')\n",
    "        raw = raw.replace('\\\\n', ' ')\n",
    "        raw = raw.replace('\\\\t', ' ')\n",
    "        raw = raw.replace(URL_STRING, '')\n",
    "\n",
    "        soup = BeautifulSoup(raw)\n",
    "        data.set_value(i, 'text', clean_soup(soup))\n",
    "        t = str(file).split('_')\n",
    "        data.set_value(i, 'activity', t[0])\n",
    "        timestamp = t[1].split('.')[0]\n",
    "        data.set_value(i, 'timestamp', timestamp)\n",
    "        data.set_value(i, 'url', url)\n",
    "        i+=1\n",
    "        f.close()\n"
   ]
  },
  {
   "cell_type": "code",
   "execution_count": 4,
   "metadata": {
    "collapsed": true
   },
   "outputs": [],
   "source": [
    "data=data[data.text != \"\"]"
   ]
  },
  {
   "cell_type": "code",
   "execution_count": 5,
   "metadata": {
    "collapsed": true
   },
   "outputs": [],
   "source": [
    "data.timestamp = data.timestamp.str.replace(\"\\(1\\)\",\"\")\n",
    "data.timestamp = data.timestamp.str.replace(\"T\",\"-\")"
   ]
  },
  {
   "cell_type": "code",
   "execution_count": 6,
   "metadata": {
    "collapsed": true
   },
   "outputs": [],
   "source": [
    "X = data[['text','url']]\n",
    "\n",
    "X_train, X_test, y_train, y_test = model_selection.train_test_split(data, data.activity,test_size=0.33, random_state=43)"
   ]
  },
  {
   "cell_type": "code",
   "execution_count": 7,
   "metadata": {
    "collapsed": true
   },
   "outputs": [],
   "source": [
    "def evaluate_model(model, X_train = X_train, y_train = y_train, X_test = X_test, y_test = y_test):\n",
    "    model.fit(X_train, y_train)\n",
    "    y_pred = model.predict(X_test)\n",
    "    \n",
    "    accuracy = accuracy_score(y_test, y_pred)\n",
    "    \n",
    "    cm = confusion_matrix(y_test, y_pred)\n",
    "    cr = classification_report(y_test, y_pred)\n",
    "    \n",
    "    print(cm)\n",
    "    print(cr)\n",
    "    \n",
    "    return accuracy"
   ]
  },
  {
   "cell_type": "markdown",
   "metadata": {},
   "source": [
    "### Working with lemmatizing"
   ]
  },
  {
   "cell_type": "code",
   "execution_count": 8,
   "metadata": {
    "collapsed": true
   },
   "outputs": [],
   "source": [
    "# I am not using any of these libraries yet\n",
    "from nltk.stem import WordNetLemmatizer\n",
    "from nltk.stem import SnowballStemmer\n",
    "lemmatizer = WordNetLemmatizer()\n",
    "stemmer = SnowballStemmer('english')"
   ]
  },
  {
   "cell_type": "markdown",
   "metadata": {},
   "source": [
    "### Below is model building"
   ]
  },
  {
   "cell_type": "code",
   "execution_count": 9,
   "metadata": {
    "collapsed": true
   },
   "outputs": [],
   "source": [
    "# replacing any empty urls with empty strings\n",
    "data.url = data.url.str.replace('NA', \"\")"
   ]
  },
  {
   "cell_type": "code",
   "execution_count": 10,
   "metadata": {
    "collapsed": true
   },
   "outputs": [],
   "source": [
    "from sklearn.feature_extraction.text import CountVectorizer, HashingVectorizer, TfidfVectorizer\n",
    "\n",
    "#instantiate our model, countvectorizing works th best\n",
    "cvec = CountVectorizer(stop_words='english')\n",
    "\n",
    "#fit the count vectorizer to the data. This 'teaches' the count vectorizer the dictionary.\n",
    "#cvec.fit(data.text)"
   ]
  },
  {
   "cell_type": "code",
   "execution_count": 11,
   "metadata": {
    "collapsed": true
   },
   "outputs": [],
   "source": [
    "# # Vectorizing my text\n",
    "# result_train = pd.DataFrame(data=cvec.transform(X_train.text).todense(), columns=cvec.vocabulary_)\n",
    "# result_test = pd.DataFrame(data=cvec.transform(X_test.text).todense(), columns=cvec.vocabulary_)\n",
    "\n",
    "# #NOTE TO SELF\n",
    "\n",
    "# # Try using fuzzy matching on URLs. Try using the partial matching thing. Then label encode the ones that match well."
   ]
  },
  {
   "cell_type": "code",
   "execution_count": 12,
   "metadata": {
    "collapsed": true
   },
   "outputs": [],
   "source": [
    "# Vectorizing my text\n",
    "result_train = pd.DataFrame(data=cvec.fit_transform(X_train.text).todense(), columns = cvec.get_feature_names())\n",
    "result_test = pd.DataFrame(data=cvec.transform(X_test.text).todense(), columns= cvec.get_feature_names())\n",
    "\n",
    "#NOTE TO SELF\n",
    "\n",
    "# Try using fuzzy matching on URLs. Try using the partial matching thing. Then label encode the ones that match well."
   ]
  },
  {
   "cell_type": "code",
   "execution_count": 26,
   "metadata": {},
   "outputs": [
    {
     "data": {
      "text/plain": [
       "107457"
      ]
     },
     "execution_count": 26,
     "metadata": {},
     "output_type": "execute_result"
    }
   ],
   "source": [
    "set(result_train.columns) - set(result_test.columns)\n",
    "\n",
    "len(result_train.columns)"
   ]
  },
  {
   "cell_type": "markdown",
   "metadata": {},
   "source": [
    "#### Making my features here. \n",
    "I have my vectorized text which works really well, but there is additional informaiton that I can engineer that might be useful for prediction. Below is where I am going to work thourgh that process."
   ]
  },
  {
   "cell_type": "code",
   "execution_count": 27,
   "metadata": {},
   "outputs": [
    {
     "name": "stdout",
     "output_type": "stream",
     "text": [
      "[[192   7]\n",
      " [  9 129]]\n",
      "             precision    recall  f1-score   support\n",
      "\n",
      "      procr       0.96      0.96      0.96       199\n",
      "       work       0.95      0.93      0.94       138\n",
      "\n",
      "avg / total       0.95      0.95      0.95       337\n",
      "\n"
     ]
    },
    {
     "data": {
      "text/plain": [
       "0.95252225519287836"
      ]
     },
     "execution_count": 27,
     "metadata": {},
     "output_type": "execute_result"
    }
   ],
   "source": [
    "lm = linear_model.LogisticRegression(penalty='l1')\n",
    "rf = ensemble.RandomForestClassifier()\n",
    "# fitting my training data  and scoring with my test data\n",
    "lm.fit(result_train,y_train)\n",
    "lm.score(result_test, y_test)\n",
    "evaluate_model(lm, X_train=result_train, X_test=result_test)"
   ]
  },
  {
   "cell_type": "code",
   "execution_count": 28,
   "metadata": {
    "collapsed": true
   },
   "outputs": [],
   "source": [
    "\n",
    "predict = lm.predict(result_test)\n",
    "actual = data.activity\n"
   ]
  },
  {
   "cell_type": "code",
   "execution_count": 59,
   "metadata": {},
   "outputs": [
    {
     "data": {
      "text/plain": [
       "[('append', 0.44929610912193518),\n",
       " ('old', 0.58786258208133035),\n",
       " ('twitter', 0.65663512952065128),\n",
       " ('playing', 0.66088982022858711),\n",
       " ('likes', 0.67352216976556345),\n",
       " ('2017', 0.6842875505291548),\n",
       " ('game', 0.69742697191050118),\n",
       " ('events', 0.72695334930494149),\n",
       " ('img', 0.75829224511122817),\n",
       " ('evil', 0.79115523707728774),\n",
       " ('don', 0.79753660518951641),\n",
       " ('movie', 0.81278686787357246),\n",
       " ('spell', 0.81636553824388636),\n",
       " ('damage', 0.82171754998691182),\n",
       " ('5e', 0.82916480976382945),\n",
       " ('watch', 0.83878894780645363),\n",
       " ('community', 0.87185627219275197),\n",
       " ('video', 0.87230001140819491),\n",
       " ('attack', 0.87298550188329382),\n",
       " ('vw', 0.87570121669833023),\n",
       " ('games', 0.89253273051489368),\n",
       " ('cookies', 0.89419362668445435),\n",
       " ('reddit', 0.90058401797536203),\n",
       " ('email', 0.91772173906004029),\n",
       " ('team', 0.9183408548699139),\n",
       " ('com', 0.92120008359321293),\n",
       " ('di', 0.92517556857286232),\n",
       " ('intelligence', 0.92693300801305734),\n",
       " ('00', 0.92910203712931161),\n",
       " ('frey', 0.93314319822640823),\n",
       " ('like', 0.9352154525108658),\n",
       " ('baby', 0.93599334484418972),\n",
       " ('hide', 0.9422830311225634),\n",
       " ('tv', 0.95165624302058893),\n",
       " ('wikia', 0.95474544236512027),\n",
       " ('house', 0.95624587855334942),\n",
       " ('polearm', 0.95746474028405337),\n",
       " ('facebook', 0.96642106268037165),\n",
       " ('jump', 0.96982309521642918),\n",
       " ('class', 0.97222547228533263),\n",
       " ('image', 0.97381759707041282),\n",
       " ('night', 0.97407576423991771),\n",
       " ('trump', 0.97586544398849273),\n",
       " ('trivia', 0.97594699852255873),\n",
       " ('level', 0.97733889035730614),\n",
       " ('iq', 0.97990160492658107),\n",
       " ('people', 0.98958374198203647),\n",
       " ('really', 0.99055483633389352),\n",
       " ('subreddit', 0.99113190703536103),\n",
       " ('james', 0.99444586946225799),\n",
       " ('spells', 0.99875119308712523),\n",
       " ('card', 0.99906215600120429),\n",
       " ('report', 0.99929891409231386),\n",
       " ('walder', 0.99955434529311527),\n",
       " ('spam', 0.99990843205958568),\n",
       " ('plot', 1.0001010763364904),\n",
       " ('numpy', 1.0106482232970406),\n",
       " ('ago', 1.0141367729242174),\n",
       " ('united', 1.0185763070005529),\n",
       " ('ordination', 1.018992076146868),\n",
       " ('states', 1.0198566998481433),\n",
       " ('test', 1.0217934301255334),\n",
       " ('10', 1.0289357619756823),\n",
       " ('living', 1.0293245167132861),\n",
       " ('extension', 1.0311799282536629),\n",
       " ('values', 1.0324213144730463),\n",
       " ('reviews', 1.03266504052417),\n",
       " ('problem', 1.0353642010411246),\n",
       " ('problems', 1.0359168827653302),\n",
       " ('2015', 1.0401255392934858),\n",
       " ('account', 1.0446036404112844),\n",
       " ('search', 1.0466430347750675),\n",
       " ('bacteria', 1.05069148909201),\n",
       " ('fu', 1.0507802720622925),\n",
       " ('python', 1.0509766174744617),\n",
       " ('correlation', 1.0577193562784484),\n",
       " ('regression', 1.0605811971391634),\n",
       " ('views', 1.0633784000496851),\n",
       " ('np', 1.0655112311019961),\n",
       " ('math', 1.0656823760966898),\n",
       " ('model', 1.0666327994257629),\n",
       " ('millennials', 1.0831028589639702),\n",
       " ('musixmatch', 1.0875621571532756),\n",
       " ('distance', 1.097479512650146),\n",
       " ('view', 1.0996972555199938),\n",
       " ('years', 1.1031950480754387),\n",
       " ('array', 1.1054563598101954),\n",
       " ('san', 1.1155681357652008),\n",
       " ('numberphile', 1.1178803933296517),\n",
       " ('foo', 1.1226733782797902),\n",
       " ('days', 1.1249531268551591),\n",
       " ('caption', 1.1269454411984619),\n",
       " ('stack', 1.1356092922517085),\n",
       " ('nltk', 1.1404758193371849),\n",
       " ('03', 1.1620142009088836),\n",
       " ('science', 1.174075518083306),\n",
       " ('learn', 1.2070075784698497),\n",
       " ('42', 1.2366141901689154),\n",
       " ('learning', 1.2856348136304943),\n",
       " ('blog', 1.2966540420002897),\n",
       " ('kurzgesagt', 1.3023873531181922),\n",
       " ('globe', 1.3392919610783507),\n",
       " ('illusionist', 1.3517414907188698),\n",
       " ('file', 1.3620167075497782),\n",
       " ('available', 1.3993343271826113),\n",
       " ('instagram', 1.4454625294912136),\n",
       " ('pitches', 1.4783925603975707),\n",
       " ('project', 1.5647747662215541),\n",
       " ('data', 1.5967359292430305),\n",
       " ('code', 1.6433584016020779),\n",
       " ('using', 2.0151687508822391),\n",
       " ('github', 2.4880720320235974)]"
      ]
     },
     "execution_count": 59,
     "metadata": {},
     "output_type": "execute_result"
    }
   ],
   "source": [
    "features = result_train.columns[lm.coef_[0] != 0]\n",
    "feature_values = lm.coef_[0][[lm.coef_[0] != 0]]\n",
    "#coef = zip(result_test.columns, np.exp((lm.coef_[0])))\n",
    "coef = list(zip(features, np.exp(feature_values)))\n",
    "sorted(coef,key = lambda a: a[1], reverse=False)\n"
   ]
  },
  {
   "cell_type": "code",
   "execution_count": 61,
   "metadata": {},
   "outputs": [
    {
     "data": {
      "text/plain": [
       "112"
      ]
     },
     "execution_count": 61,
     "metadata": {},
     "output_type": "execute_result"
    }
   ],
   "source": [
    "len(coef)"
   ]
  },
  {
   "cell_type": "code",
   "execution_count": 17,
   "metadata": {},
   "outputs": [
    {
     "data": {
      "text/plain": [
       "0.58625730994152048"
      ]
     },
     "execution_count": 17,
     "metadata": {},
     "output_type": "execute_result"
    }
   ],
   "source": [
    "# baseline\n",
    "(y_train == 'procr').sum()/float(len(y_train))"
   ]
  },
  {
   "cell_type": "code",
   "execution_count": 18,
   "metadata": {},
   "outputs": [
    {
     "name": "stderr",
     "output_type": "stream",
     "text": [
      "/home/roland/anaconda3/lib/python3.6/site-packages/ipykernel_launcher.py:1: SettingWithCopyWarning: \n",
      "A value is trying to be set on a copy of a slice from a DataFrame.\n",
      "Try using .loc[row_indexer,col_indexer] = value instead\n",
      "\n",
      "See the caveats in the documentation: http://pandas.pydata.org/pandas-docs/stable/indexing.html#indexing-view-versus-copy\n",
      "  \"\"\"Entry point for launching an IPython kernel.\n"
     ]
    }
   ],
   "source": [
    "X_test['prob_work'] = lm.predict_proba(result_test)[:,1]*100"
   ]
  },
  {
   "cell_type": "code",
   "execution_count": 19,
   "metadata": {},
   "outputs": [
    {
     "name": "stderr",
     "output_type": "stream",
     "text": [
      "/home/roland/anaconda3/lib/python3.6/site-packages/ipykernel_launcher.py:1: SettingWithCopyWarning: \n",
      "A value is trying to be set on a copy of a slice from a DataFrame.\n",
      "Try using .loc[row_indexer,col_indexer] = value instead\n",
      "\n",
      "See the caveats in the documentation: http://pandas.pydata.org/pandas-docs/stable/indexing.html#indexing-view-versus-copy\n",
      "  \"\"\"Entry point for launching an IPython kernel.\n",
      "/home/roland/anaconda3/lib/python3.6/site-packages/ipykernel_launcher.py:2: SettingWithCopyWarning: \n",
      "A value is trying to be set on a copy of a slice from a DataFrame.\n",
      "Try using .loc[row_indexer,col_indexer] = value instead\n",
      "\n",
      "See the caveats in the documentation: http://pandas.pydata.org/pandas-docs/stable/indexing.html#indexing-view-versus-copy\n",
      "  \n"
     ]
    }
   ],
   "source": [
    "X_test['prob_work'] = X_test.prob_work.apply(int)\n",
    "X_test['predict']  = lm.predict(result_test)"
   ]
  },
  {
   "cell_type": "code",
   "execution_count": 62,
   "metadata": {},
   "outputs": [
    {
     "data": {
      "text/html": [
       "<div>\n",
       "<style>\n",
       "    .dataframe thead tr:only-child th {\n",
       "        text-align: right;\n",
       "    }\n",
       "\n",
       "    .dataframe thead th {\n",
       "        text-align: left;\n",
       "    }\n",
       "\n",
       "    .dataframe tbody tr th {\n",
       "        vertical-align: top;\n",
       "    }\n",
       "</style>\n",
       "<table border=\"1\" class=\"dataframe\">\n",
       "  <thead>\n",
       "    <tr style=\"text-align: right;\">\n",
       "      <th></th>\n",
       "      <th>activity</th>\n",
       "      <th>text</th>\n",
       "      <th>timestamp</th>\n",
       "      <th>url</th>\n",
       "      <th>prob_work</th>\n",
       "      <th>predict</th>\n",
       "    </tr>\n",
       "  </thead>\n",
       "  <tbody>\n",
       "    <tr>\n",
       "      <th>1006</th>\n",
       "      <td>procr</td>\n",
       "      <td>Guys, México has no net neutrality laws. This ...</td>\n",
       "      <td>2017-8-31-16-17-49</td>\n",
       "      <td>https://www.reddit.com/r/technology/comments/6...</td>\n",
       "      <td>99</td>\n",
       "      <td>work</td>\n",
       "    </tr>\n",
       "    <tr>\n",
       "      <th>443</th>\n",
       "      <td>work</td>\n",
       "      <td>How to make your tables less terrible : educat...</td>\n",
       "      <td>2017-8-25-17-8-11</td>\n",
       "      <td>https://www.reddit.com/r/educationalgifs/comme...</td>\n",
       "      <td>6</td>\n",
       "      <td>procr</td>\n",
       "    </tr>\n",
       "    <tr>\n",
       "      <th>861</th>\n",
       "      <td>work</td>\n",
       "      <td>pandas.DataFrame.append — pandas 0.20.3 docu...</td>\n",
       "      <td>2017-8-16-10-12-21</td>\n",
       "      <td>https://pandas.pydata.org/pandas-docs/stable/g...</td>\n",
       "      <td>3</td>\n",
       "      <td>procr</td>\n",
       "    </tr>\n",
       "    <tr>\n",
       "      <th>934</th>\n",
       "      <td>procr</td>\n",
       "      <td>[OC] snapchat heat map aligning with path of E...</td>\n",
       "      <td>2017-8-21-15-13-0</td>\n",
       "      <td>https://www.reddit.com/r/dataisbeautiful/comme...</td>\n",
       "      <td>96</td>\n",
       "      <td>work</td>\n",
       "    </tr>\n",
       "    <tr>\n",
       "      <th>385</th>\n",
       "      <td>procr</td>\n",
       "      <td>J.Crew - Shopping Bag                       ...</td>\n",
       "      <td>2017-8-4-11-42-54</td>\n",
       "      <td></td>\n",
       "      <td>87</td>\n",
       "      <td>work</td>\n",
       "    </tr>\n",
       "    <tr>\n",
       "      <th>311</th>\n",
       "      <td>procr</td>\n",
       "      <td>streaming - How to watch Acestream / Sopcast ...</td>\n",
       "      <td>2017-8-26-21-41-33</td>\n",
       "      <td>https://askubuntu.com/questions/763364/how-to-...</td>\n",
       "      <td>99</td>\n",
       "      <td>work</td>\n",
       "    </tr>\n",
       "    <tr>\n",
       "      <th>893</th>\n",
       "      <td>work</td>\n",
       "      <td>City maps from Airbnb location ratings [OC] [2...</td>\n",
       "      <td>2017-8-9-10-7-28</td>\n",
       "      <td></td>\n",
       "      <td>0</td>\n",
       "      <td>procr</td>\n",
       "    </tr>\n",
       "    <tr>\n",
       "      <th>364</th>\n",
       "      <td>procr</td>\n",
       "      <td>Python (genus) - Wikipedia                  ...</td>\n",
       "      <td>2017-8-5-3-23-47</td>\n",
       "      <td></td>\n",
       "      <td>89</td>\n",
       "      <td>work</td>\n",
       "    </tr>\n",
       "    <tr>\n",
       "      <th>528</th>\n",
       "      <td>procr</td>\n",
       "      <td>Each week for the last few months, I bought 3 ...</td>\n",
       "      <td>2017-8-24-1-23-46</td>\n",
       "      <td>https://www.reddit.com/r/dataisbeautiful/comme...</td>\n",
       "      <td>99</td>\n",
       "      <td>work</td>\n",
       "    </tr>\n",
       "    <tr>\n",
       "      <th>20</th>\n",
       "      <td>procr</td>\n",
       "      <td>dnd 5e - Can you use Minor Illusion to create...</td>\n",
       "      <td>2017-8-21-10-34-0</td>\n",
       "      <td>https://rpg.stackexchange.com/questions/77926/...</td>\n",
       "      <td>90</td>\n",
       "      <td>work</td>\n",
       "    </tr>\n",
       "    <tr>\n",
       "      <th>584</th>\n",
       "      <td>work</td>\n",
       "      <td>Derangements - Numberphile - YouTube  ...</td>\n",
       "      <td>2017-8-2-11-29-40</td>\n",
       "      <td></td>\n",
       "      <td>44</td>\n",
       "      <td>procr</td>\n",
       "    </tr>\n",
       "    <tr>\n",
       "      <th>570</th>\n",
       "      <td>work</td>\n",
       "      <td>America's Pastimejump to contentMy Subreddits-...</td>\n",
       "      <td>2017-7-25-0-25-38</td>\n",
       "      <td></td>\n",
       "      <td>0</td>\n",
       "      <td>procr</td>\n",
       "    </tr>\n",
       "  </tbody>\n",
       "</table>\n",
       "</div>"
      ],
      "text/plain": [
       "     activity                                               text  \\\n",
       "1006    procr  Guys, México has no net neutrality laws. This ...   \n",
       "443      work  How to make your tables less terrible : educat...   \n",
       "861      work    pandas.DataFrame.append — pandas 0.20.3 docu...   \n",
       "934     procr  [OC] snapchat heat map aligning with path of E...   \n",
       "385     procr    J.Crew - Shopping Bag                       ...   \n",
       "311     procr   streaming - How to watch Acestream / Sopcast ...   \n",
       "893      work  City maps from Airbnb location ratings [OC] [2...   \n",
       "364     procr    Python (genus) - Wikipedia                  ...   \n",
       "528     procr  Each week for the last few months, I bought 3 ...   \n",
       "20      procr   dnd 5e - Can you use Minor Illusion to create...   \n",
       "584      work          Derangements - Numberphile - YouTube  ...   \n",
       "570      work  America's Pastimejump to contentMy Subreddits-...   \n",
       "\n",
       "               timestamp                                                url  \\\n",
       "1006  2017-8-31-16-17-49  https://www.reddit.com/r/technology/comments/6...   \n",
       "443    2017-8-25-17-8-11  https://www.reddit.com/r/educationalgifs/comme...   \n",
       "861   2017-8-16-10-12-21  https://pandas.pydata.org/pandas-docs/stable/g...   \n",
       "934    2017-8-21-15-13-0  https://www.reddit.com/r/dataisbeautiful/comme...   \n",
       "385    2017-8-4-11-42-54                                                      \n",
       "311   2017-8-26-21-41-33  https://askubuntu.com/questions/763364/how-to-...   \n",
       "893     2017-8-9-10-7-28                                                      \n",
       "364     2017-8-5-3-23-47                                                      \n",
       "528    2017-8-24-1-23-46  https://www.reddit.com/r/dataisbeautiful/comme...   \n",
       "20     2017-8-21-10-34-0  https://rpg.stackexchange.com/questions/77926/...   \n",
       "584    2017-8-2-11-29-40                                                      \n",
       "570    2017-7-25-0-25-38                                                      \n",
       "\n",
       "      prob_work predict  \n",
       "1006         99    work  \n",
       "443           6   procr  \n",
       "861           3   procr  \n",
       "934          96    work  \n",
       "385          87    work  \n",
       "311          99    work  \n",
       "893           0   procr  \n",
       "364          89    work  \n",
       "528          99    work  \n",
       "20           90    work  \n",
       "584          44   procr  \n",
       "570           0   procr  "
      ]
     },
     "execution_count": 62,
     "metadata": {},
     "output_type": "execute_result"
    }
   ],
   "source": [
    "X_test[X_test.activity != X_test.predict]"
   ]
  },
  {
   "cell_type": "markdown",
   "metadata": {},
   "source": [
    "### Analyzing Count vectorized results"
   ]
  },
  {
   "cell_type": "code",
   "execution_count": 21,
   "metadata": {
    "collapsed": true
   },
   "outputs": [],
   "source": [
    "temp = result_train[list(X_train.activity =='procr')]"
   ]
  },
  {
   "cell_type": "code",
   "execution_count": 22,
   "metadata": {},
   "outputs": [
    {
     "name": "stderr",
     "output_type": "stream",
     "text": [
      "/home/roland/anaconda3/lib/python3.6/site-packages/ipykernel_launcher.py:1: SettingWithCopyWarning: \n",
      "A value is trying to be set on a copy of a slice from a DataFrame.\n",
      "Try using .loc[row_indexer,col_indexer] = value instead\n",
      "\n",
      "See the caveats in the documentation: http://pandas.pydata.org/pandas-docs/stable/indexing.html#indexing-view-versus-copy\n",
      "  \"\"\"Entry point for launching an IPython kernel.\n"
     ]
    }
   ],
   "source": [
    "X_train['python_count']  = list(result_train['python'])"
   ]
  },
  {
   "cell_type": "code",
   "execution_count": 412,
   "metadata": {},
   "outputs": [
    {
     "data": {
      "text/plain": [
       "[\" AnyDice            AnyDice Dice Probability Calculator   Articles      Stay Connected  Twitter,     Facebook,     Google+  Currently Playing     made by Jasper Flick     output 3d4   View       Data       ...calculating...   output 1 (92.00 / 9.42)#%240.00\\xa0250.00\\xa0260.00\\xa0270.00\\xa0280.00\\xa0290.00\\xa0300.00\\xa0310.00\\xa0320.00\\xa0330.00\\xa0340.00\\xa0350.00\\xa0360.00\\xa0370.00\\xa0380.00\\xa0390.00\\xa0400.00\\xa0410.00\\xa0420.00\\xa0430.00\\xa0440.00\\xa0450.00\\xa0460.00\\xa0470.00\\xa0480.00\\xa0490.00\\xa0500.00\\xa0510.00\\xa0520.00\\xa0530.00\\xa0540.00\\xa0550.00\\xa0560.00\\xa0570.00\\xa0580.00\\xa0590.01\\xa0600.01\\xa0610.02\\xa0620.02\\xa0630.03\\xa0640.05\\xa0650.07\\xa0660.09\\xa0670.12\\xa0680.16\\xa0690.21\\xa0700.28\\xa0710.35\\xa0720.45\\xa0730.56\\xa0740.69\\xa0750.84\\xa0761.01\\xa0771.21\\xa0781.42\\xa0791.65\\xa0801.90\\xa0812.16\\xa0822.42\\xa0832.69\\xa0842.96\\xa0853.21\\xa0863.45\\xa0873.67\\xa0883.85\\xa0894.00\\xa0904.12\\xa0914.18\\xa0924.21\\xa0934.18\\xa0944.12\\xa0954.00\\xa0963.85\\xa0973.67\\xa0983.45\\xa0993.21\\xa01002.96\\xa01012.69\\xa01022.42\\xa01032.16\\xa01041.90\\xa01051.65\\xa01061.42\\xa01071.21\\xa01081.01\\xa01090.84\\xa01100.69\\xa01110.56\\xa01120.45\\xa01130.35\\xa01140.28\\xa01150.21\\xa01160.16\\xa01170.12\\xa01180.09\\xa01190.07\\xa01200.05\\xa01210.03\\xa01220.02\\xa01230.02\\xa01240.01\\xa01250.01\\xa01260.00\\xa01270.00\\xa01280.00\\xa01290.00\\xa01300.00\\xa01310.00\\xa01320.00\\xa01330.00\\xa01340.00\\xa01350.00\\xa01360.00\\xa01370.00\\xa01380.00\\xa01390.00\\xa01400.00\\xa01410.00\\xa01420.00\\xa01430.00\\xa01440.00\\xa01450.00\\xa01460.00\\xa01470.00\\xa01480.00\\xa01490.00\\xa01500.00\\xa01510.00\\xa01520.00\\xa01530.00\\xa01540.00\\xa01550.00\\xa01560.00\\xa01570.00\\xa01580.00\\xa01590.00\\xa01600.00\\xa0              You can chat with me – the creator of AnyDice – using the widget below, if I'm online. I am willing to help you with AnyDice. I can also help you understand dice probabilities.     The chat session will remain alive even when it is hidden.           Have you considered donating?    Show me how and why! Remind me later. Yes, I have already donated! No, and don't bother me again!  \"]"
      ]
     },
     "execution_count": 412,
     "metadata": {},
     "output_type": "execute_result"
    }
   ],
   "source": [
    "temp = X_train[X_train.python_count > 0].sort_values('python_count', ascending = False)\n",
    "list(temp[temp.activity == 'procr'].iloc[0:1].text)"
   ]
  },
  {
   "cell_type": "code",
   "execution_count": 455,
   "metadata": {
    "collapsed": true
   },
   "outputs": [],
   "source": [
    "cvec.fit((temp[temp.activity == 'procr'].iloc[0:8].text))\n",
    "new_temp = pd.DataFrame(data=cvec.transform(temp[temp.activity == 'procr'].iloc[0:8].text).todense(), columns = cvec.get_feature_names())"
   ]
  },
  {
   "cell_type": "code",
   "execution_count": 457,
   "metadata": {},
   "outputs": [
    {
     "data": {
      "text/plain": [
       "0    4\n",
       "1    0\n",
       "2    0\n",
       "3    0\n",
       "4    0\n",
       "5    0\n",
       "6    0\n",
       "7    0\n",
       "Name: anydice, dtype: int64"
      ]
     },
     "execution_count": 457,
     "metadata": {},
     "output_type": "execute_result"
    }
   ],
   "source": [
    "new_temp['anydice']"
   ]
  },
  {
   "cell_type": "code",
   "execution_count": 454,
   "metadata": {},
   "outputs": [
    {
     "data": {
      "text/plain": [
       "[\" AnyDice            AnyDice Dice Probability Calculator   Articles      Stay Connected  Twitter,     Facebook,     Google+  Currently Playing     made by Jasper Flick     output 3d4   View       Data       ...calculating...   output 1 (92.00 / 9.42)#%240.00\\xa0250.00\\xa0260.00\\xa0270.00\\xa0280.00\\xa0290.00\\xa0300.00\\xa0310.00\\xa0320.00\\xa0330.00\\xa0340.00\\xa0350.00\\xa0360.00\\xa0370.00\\xa0380.00\\xa0390.00\\xa0400.00\\xa0410.00\\xa0420.00\\xa0430.00\\xa0440.00\\xa0450.00\\xa0460.00\\xa0470.00\\xa0480.00\\xa0490.00\\xa0500.00\\xa0510.00\\xa0520.00\\xa0530.00\\xa0540.00\\xa0550.00\\xa0560.00\\xa0570.00\\xa0580.00\\xa0590.01\\xa0600.01\\xa0610.02\\xa0620.02\\xa0630.03\\xa0640.05\\xa0650.07\\xa0660.09\\xa0670.12\\xa0680.16\\xa0690.21\\xa0700.28\\xa0710.35\\xa0720.45\\xa0730.56\\xa0740.69\\xa0750.84\\xa0761.01\\xa0771.21\\xa0781.42\\xa0791.65\\xa0801.90\\xa0812.16\\xa0822.42\\xa0832.69\\xa0842.96\\xa0853.21\\xa0863.45\\xa0873.67\\xa0883.85\\xa0894.00\\xa0904.12\\xa0914.18\\xa0924.21\\xa0934.18\\xa0944.12\\xa0954.00\\xa0963.85\\xa0973.67\\xa0983.45\\xa0993.21\\xa01002.96\\xa01012.69\\xa01022.42\\xa01032.16\\xa01041.90\\xa01051.65\\xa01061.42\\xa01071.21\\xa01081.01\\xa01090.84\\xa01100.69\\xa01110.56\\xa01120.45\\xa01130.35\\xa01140.28\\xa01150.21\\xa01160.16\\xa01170.12\\xa01180.09\\xa01190.07\\xa01200.05\\xa01210.03\\xa01220.02\\xa01230.02\\xa01240.01\\xa01250.01\\xa01260.00\\xa01270.00\\xa01280.00\\xa01290.00\\xa01300.00\\xa01310.00\\xa01320.00\\xa01330.00\\xa01340.00\\xa01350.00\\xa01360.00\\xa01370.00\\xa01380.00\\xa01390.00\\xa01400.00\\xa01410.00\\xa01420.00\\xa01430.00\\xa01440.00\\xa01450.00\\xa01460.00\\xa01470.00\\xa01480.00\\xa01490.00\\xa01500.00\\xa01510.00\\xa01520.00\\xa01530.00\\xa01540.00\\xa01550.00\\xa01560.00\\xa01570.00\\xa01580.00\\xa01590.00\\xa01600.00\\xa0              You can chat with me – the creator of AnyDice – using the widget below, if I'm online. I am willing to help you with AnyDice. I can also help you understand dice probabilities.     The chat session will remain alive even when it is hidden.           Have you considered donating?    Show me how and why! Remind me later. Yes, I have already donated! No, and don't bother me again!  \"]"
      ]
     },
     "execution_count": 454,
     "metadata": {},
     "output_type": "execute_result"
    }
   ],
   "source": [
    "list(temp[temp.activity == 'procr'].iloc[0:1].text)"
   ]
  },
  {
   "cell_type": "code",
   "execution_count": null,
   "metadata": {
    "collapsed": true
   },
   "outputs": [],
   "source": []
  }
 ],
 "metadata": {
  "kernelspec": {
   "display_name": "Python 3",
   "language": "python",
   "name": "python3"
  },
  "language_info": {
   "codemirror_mode": {
    "name": "ipython",
    "version": 3
   },
   "file_extension": ".py",
   "mimetype": "text/x-python",
   "name": "python",
   "nbconvert_exporter": "python",
   "pygments_lexer": "ipython3",
   "version": "3.6.1"
  }
 },
 "nbformat": 4,
 "nbformat_minor": 2
}
